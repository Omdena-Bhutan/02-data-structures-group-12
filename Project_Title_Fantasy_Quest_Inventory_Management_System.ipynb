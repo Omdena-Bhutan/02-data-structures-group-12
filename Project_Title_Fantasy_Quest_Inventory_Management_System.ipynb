{
  "nbformat": 4,
  "nbformat_minor": 0,
  "metadata": {
    "colab": {
      "provenance": [],
      "authorship_tag": "ABX9TyMSw/2WTrXoBhuZINfvEl9O",
      "include_colab_link": true
    },
    "kernelspec": {
      "name": "python3",
      "display_name": "Python 3"
    },
    "language_info": {
      "name": "python"
    }
  },
  "cells": [
    {
      "cell_type": "markdown",
      "metadata": {
        "id": "view-in-github",
        "colab_type": "text"
      },
      "source": [
        "<a href=\"https://colab.research.google.com/github/Omdena-Bhutan/02-data-structures-group-12/blob/main/Project_Title_Fantasy_Quest_Inventory_Management_System.ipynb\" target=\"_parent\"><img src=\"https://colab.research.google.com/assets/colab-badge.svg\" alt=\"Open In Colab\"/></a>"
      ]
    },
    {
      "cell_type": "markdown",
      "source": [
        "Part 1: Character Profile (Using Dictionaries and Basic Types)\n",
        "Create a dictionary named character_profile to store Alistair's basic information. The dictionary should have the following key-value pairs:\n",
        "\n",
        "'name': A string with the value \"Alistair the Brave\".\n",
        "\n",
        "'level': An integer representing his current level (start at 1).\n",
        "\n",
        "'health': An integer representing his current health (start at 100).\n",
        "\n",
        "'mana': An integer representing his current mana (start at 50).\n",
        "\n",
        "'gold': A float representing the amount of gold he has (start at 50.75).\n",
        "\n",
        "'is_alive': A boolean that is True by default.\n",
        "\n",
        "Tasks:\n",
        "Print the character's name and level in a formatted string.\n",
        "\n",
        "Update the character's health to 85.\n",
        "\n",
        "Add a new key-value pair for 'experience' with a value of 0.\n",
        "\n",
        "Print the final character_profile dictionary to the console."
      ],
      "metadata": {
        "id": "5rYKcIUkXIub"
      }
    },
    {
      "cell_type": "code",
      "source": [
        "character_profile = {\n",
        "    'name': 'Alistair the Brave',\n",
        "    'level': 1,\n",
        "    'health': 100,\n",
        "    'mana': 50,\n",
        "    'gold': 50.75,\n",
        "    'is_alive': True\n",
        "}\n",
        "\n",
        "#display the dictionary to verify\n",
        "print(character_profile)\n",
        "print (type(character_profile))\n"
      ],
      "metadata": {
        "colab": {
          "base_uri": "https://localhost:8080/"
        },
        "id": "b_NRJhjvXQmA",
        "outputId": "a9df4d3e-3c9c-486b-a9a9-b38fcd82d6e8"
      },
      "execution_count": null,
      "outputs": [
        {
          "output_type": "stream",
          "name": "stdout",
          "text": [
            "{'name': 'Alistair the Brave', 'level': 1, 'health': 100, 'mana': 50, 'gold': 50.75, 'is_alive': True}\n",
            "<class 'dict'>\n"
          ]
        }
      ]
    },
    {
      "cell_type": "code",
      "source": [
        "#You can access individual values\n",
        "print (f\"name:{character_profile['name']}\")\n",
        "print (f\"level:{character_profile['level']}\")\n",
        "print (f\"health:{character_profile['health']}\")\n",
        "print (f\"mana:{character_profile['mana']}\")\n",
        "print (f\"gold:{character_profile['gold']}\")\n",
        "print (f\"is_alive:{character_profile['is_alive']}\")"
      ],
      "metadata": {
        "colab": {
          "base_uri": "https://localhost:8080/"
        },
        "id": "qWTAZYllYpJJ",
        "outputId": "a33f8139-1838-4989-a29a-768d1293bdd2"
      },
      "execution_count": null,
      "outputs": [
        {
          "output_type": "stream",
          "name": "stdout",
          "text": [
            "name:Alistair the Brave\n",
            "level:1\n",
            "health:100\n",
            "mana:50\n",
            "gold:50.75\n",
            "is_alive:True\n"
          ]
        }
      ]
    },
    {
      "cell_type": "markdown",
      "source": [
        "Print the character's name and level in a formatted string."
      ],
      "metadata": {
        "id": "TN5Esrb2ZLNA"
      }
    },
    {
      "cell_type": "code",
      "source": [
        "print (f\"character:{character_profile['name']}(level:{character_profile['level']})\")"
      ],
      "metadata": {
        "colab": {
          "base_uri": "https://localhost:8080/"
        },
        "id": "IKn1Q-X1ZOWI",
        "outputId": "48ac6268-9b85-4973-fcb8-1ecb07d82af8"
      },
      "execution_count": null,
      "outputs": [
        {
          "output_type": "stream",
          "name": "stdout",
          "text": [
            "character:Alistair the Brave(level:1)\n"
          ]
        }
      ]
    },
    {
      "cell_type": "markdown",
      "source": [
        "Update the character's health to 85."
      ],
      "metadata": {
        "id": "5-6CfNFVZvra"
      }
    },
    {
      "cell_type": "code",
      "source": [
        "character_profile['health'] =85\n",
        "print(character_profile)"
      ],
      "metadata": {
        "colab": {
          "base_uri": "https://localhost:8080/"
        },
        "id": "Qmre_U17Z0Dh",
        "outputId": "15e197b0-185c-41ee-e276-e60ce9001d15"
      },
      "execution_count": null,
      "outputs": [
        {
          "output_type": "stream",
          "name": "stdout",
          "text": [
            "{'name': 'Alistair the Brave', 'level': 1, 'health': 85, 'mana': 50, 'gold': 50.75, 'is_alive': True}\n"
          ]
        }
      ]
    },
    {
      "cell_type": "markdown",
      "source": [
        "Add a new key-value pair for 'experience' with a value of 0."
      ],
      "metadata": {
        "id": "zI3FnpsjaMlD"
      }
    },
    {
      "cell_type": "code",
      "source": [
        "character_profile['experience'] = 0\n",
        "print(character_profile)"
      ],
      "metadata": {
        "colab": {
          "base_uri": "https://localhost:8080/"
        },
        "id": "tmIQ_TC3aPug",
        "outputId": "fda25767-0c21-4339-abbf-bbeade134a44"
      },
      "execution_count": null,
      "outputs": [
        {
          "output_type": "stream",
          "name": "stdout",
          "text": [
            "{'name': 'Alistair the Brave', 'level': 1, 'health': 85, 'mana': 50, 'gold': 50.75, 'is_alive': True, 'experience': 0}\n"
          ]
        }
      ]
    },
    {
      "cell_type": "markdown",
      "source": [
        "Print the final character_profile dictionary to the console."
      ],
      "metadata": {
        "id": "nsqz_ETTaYy5"
      }
    },
    {
      "cell_type": "code",
      "source": [
        "print(\"\\nfinal character profile:\")\n",
        "print (character_profile)"
      ],
      "metadata": {
        "colab": {
          "base_uri": "https://localhost:8080/"
        },
        "id": "pd14KQnTacih",
        "outputId": "5e0a0b61-d7a7-4205-a0f4-9329060aff6c"
      },
      "execution_count": null,
      "outputs": [
        {
          "output_type": "stream",
          "name": "stdout",
          "text": [
            "\n",
            "final character profile:\n",
            "{'name': 'Alistair the Brave', 'level': 1, 'health': 85, 'mana': 50, 'gold': 50.75, 'is_alive': True, 'experience': 0}\n"
          ]
        }
      ]
    },
    {
      "cell_type": "markdown",
      "source": [
        "Optional :print with better formatting"
      ],
      "metadata": {
        "id": "HyHup2LCavNo"
      }
    },
    {
      "cell_type": "code",
      "source": [
        "print (\"\\nfinal character profile:\")\n",
        "for key, value in character_profile.items():\n",
        "    print (f\"{key}:{value}\")"
      ],
      "metadata": {
        "colab": {
          "base_uri": "https://localhost:8080/"
        },
        "id": "c7qzWNrUa1u6",
        "outputId": "6446b739-5e2e-4bef-ec31-3f7af5af4074"
      },
      "execution_count": null,
      "outputs": [
        {
          "output_type": "stream",
          "name": "stdout",
          "text": [
            "\n",
            "final character profile:\n",
            "name:Alistair the Brave\n",
            "level:1\n",
            "health:85\n",
            "mana:50\n",
            "gold:50.75\n",
            "is_alive:True\n",
            "experience:0\n"
          ]
        }
      ]
    },
    {
      "cell_type": "markdown",
      "source": [
        "Part 2: Inventory System (Using Lists)\n",
        "Create a list named inventory to hold the items Alistair is carrying. Items should be represented as strings."
      ],
      "metadata": {
        "id": "jp4iM9y9bHGI"
      }
    },
    {
      "cell_type": "code",
      "source": [
        "#creating the inventory list with initial item\n",
        "inventory = ['sword','shield','health portion']\n",
        "print (inventory)\n"
      ],
      "metadata": {
        "colab": {
          "base_uri": "https://localhost:8080/"
        },
        "id": "RCXNkRrlbkVg",
        "outputId": "49e240c0-d7c7-4082-e59b-8fe86b845e32"
      },
      "execution_count": null,
      "outputs": [
        {
          "output_type": "stream",
          "name": "stdout",
          "text": [
            "['sword', 'shield', 'health portion']\n"
          ]
        }
      ]
    },
    {
      "cell_type": "markdown",
      "source": [
        "Initialize the list with a few items, for example: ['sword', 'shield', 'health potion']."
      ],
      "metadata": {
        "id": "W3nRVxLvcP6h"
      }
    },
    {
      "cell_type": "code",
      "source": [
        "print(\"initial Inventory\")\n",
        "print (inventory)"
      ],
      "metadata": {
        "colab": {
          "base_uri": "https://localhost:8080/"
        },
        "id": "TYIKFE6gcSeI",
        "outputId": "cea963b2-14cb-46c0-f2c0-08cd84a57825"
      },
      "execution_count": null,
      "outputs": [
        {
          "output_type": "stream",
          "name": "stdout",
          "text": [
            "initial Inventory\n",
            "['sword', 'shield', 'health portion']\n"
          ]
        }
      ]
    },
    {
      "cell_type": "markdown",
      "source": [
        "Add a new item to the inventory (e.g., 'mana potion')."
      ],
      "metadata": {
        "id": "10IwHDjUcx0K"
      }
    },
    {
      "cell_type": "code",
      "source": [
        "print(\"adding new item\")\n",
        "inventory.append('mana potion')\n",
        "print (inventory)"
      ],
      "metadata": {
        "colab": {
          "base_uri": "https://localhost:8080/"
        },
        "id": "58DFmHkpc09g",
        "outputId": "40158bf5-b8c3-49dc-b336-3bd875cb371f"
      },
      "execution_count": null,
      "outputs": [
        {
          "output_type": "stream",
          "name": "stdout",
          "text": [
            "adding new item\n",
            "['sword', 'shield', 'health portion', 'mana potion']\n"
          ]
        }
      ]
    },
    {
      "cell_type": "markdown",
      "source": [
        "Remove an existing item from the inventory (e.g., 'shield')."
      ],
      "metadata": {
        "id": "iaANSm9XdBo3"
      }
    },
    {
      "cell_type": "code",
      "source": [
        "print ('remove shield')\n",
        "inventory.remove('shield')\n",
        "print (inventory)"
      ],
      "metadata": {
        "colab": {
          "base_uri": "https://localhost:8080/"
        },
        "id": "XR-fPwlKdEMR",
        "outputId": "c28f3948-409b-4453-e151-2057de8f647c"
      },
      "execution_count": null,
      "outputs": [
        {
          "output_type": "stream",
          "name": "stdout",
          "text": [
            "remove shield\n",
            "['sword', 'health portion', 'mana potion']\n"
          ]
        }
      ]
    },
    {
      "cell_type": "markdown",
      "source": [
        "Use a for loop to iterate through the inventory list and print each item."
      ],
      "metadata": {
        "id": "O20mcwKEdPkT"
      }
    },
    {
      "cell_type": "code",
      "metadata": {
        "colab": {
          "base_uri": "https://localhost:8080/"
        },
        "id": "7be837f2",
        "outputId": "3074119a-a2b8-411e-8e5d-221c0911cfa4"
      },
      "source": [
        "print(\"Inventory items:\")\n",
        "for item in inventory:\n",
        "    print(item)"
      ],
      "execution_count": null,
      "outputs": [
        {
          "output_type": "stream",
          "name": "stdout",
          "text": [
            "Inventory items:\n",
            "sword\n",
            "health portion\n",
            "mana potion\n"
          ]
        }
      ]
    },
    {
      "cell_type": "code",
      "source": [
        "print (\"\\ncurrent inventory item:\")\n",
        "for item in inventory:\n",
        "    print(f\"{item}\")"
      ],
      "metadata": {
        "colab": {
          "base_uri": "https://localhost:8080/"
        },
        "id": "zzPrizpcd_PK",
        "outputId": "a1bf3975-d0e3-4d49-aafc-ad4511cf7d2c"
      },
      "execution_count": null,
      "outputs": [
        {
          "output_type": "stream",
          "name": "stdout",
          "text": [
            "\n",
            "current inventory item:\n",
            "sword\n",
            "health portion\n",
            "mana potion\n"
          ]
        }
      ]
    },
    {
      "cell_type": "markdown",
      "source": [
        "Part 3: Character Stats (Using Tuples)\n",
        "Tuples are great for storing data that should not change. Create a tuple named base_stats to store Alistair's base attributes.\n",
        "\n",
        "The tuple should contain (strength, dexterity, intelligence).\n",
        "\n",
        "Choose a starting value for each attribute (e.g., (10, 8, 12))."
      ],
      "metadata": {
        "id": "ZDJRMpiTeTwg"
      }
    },
    {
      "cell_type": "code",
      "metadata": {
        "colab": {
          "base_uri": "https://localhost:8080/"
        },
        "id": "3961fbef",
        "outputId": "38b6676e-b98c-4624-e7c6-b3126d0e749d"
      },
      "source": [
        "base_stats = (10, 8, 12)\n",
        "print(base_stats)"
      ],
      "execution_count": null,
      "outputs": [
        {
          "output_type": "stream",
          "name": "stdout",
          "text": [
            "(10, 8, 12)\n"
          ]
        }
      ]
    },
    {
      "cell_type": "code",
      "metadata": {
        "colab": {
          "base_uri": "https://localhost:8080/"
        },
        "id": "d9d45c87",
        "outputId": "752499a1-8720-4b2a-b935-039a67321e72"
      },
      "source": [
        "strength = base_stats[0]\n",
        "dexterity = base_stats[1]\n",
        "intelligence = base_stats[2]\n",
        "\n",
        "print(f\"Strength: {strength}\")\n",
        "print(f\"Dexterity: {dexterity}\")\n",
        "print(f\"Intelligence: {intelligence}\")"
      ],
      "execution_count": null,
      "outputs": [
        {
          "output_type": "stream",
          "name": "stdout",
          "text": [
            "Strength: 10\n",
            "Dexterity: 8\n",
            "Intelligence: 12\n"
          ]
        }
      ]
    },
    {
      "cell_type": "markdown",
      "source": [
        "Print a statement explaining why a tuple is a good choice for base stats (because they are immutable and won't change)."
      ],
      "metadata": {
        "id": "SOtdSS12gx5b"
      }
    },
    {
      "cell_type": "code",
      "metadata": {
        "colab": {
          "base_uri": "https://localhost:8080/"
        },
        "id": "bd4b82cf",
        "outputId": "7e5e3a80-0bab-4706-a2e4-536cd6bebbf9"
      },
      "source": [
        "print(\"A tuple is a good choice for storing base stats like strength, dexterity, and intelligence because they are immutable. This means once the tuple is created, its elements cannot be changed, which is suitable for base attributes that should remain constant.\")"
      ],
      "execution_count": null,
      "outputs": [
        {
          "output_type": "stream",
          "name": "stdout",
          "text": [
            "A tuple is a good choice for storing base stats like strength, dexterity, and intelligence because they are immutable. This means once the tuple is created, its elements cannot be changed, which is suitable for base attributes that should remain constant.\n"
          ]
        }
      ]
    },
    {
      "cell_type": "markdown",
      "source": [
        "Access and print the value of intelligence from the base_stats tuple."
      ],
      "metadata": {
        "id": "F8fQyP9whKtl"
      }
    },
    {
      "cell_type": "code",
      "source": [
        "print(f\"Intelligence: {base_stats[2]}\")"
      ],
      "metadata": {
        "colab": {
          "base_uri": "https://localhost:8080/"
        },
        "id": "PZaQb8rohOjh",
        "outputId": "188cf69e-f646-4193-9832-fddb096a256e"
      },
      "execution_count": null,
      "outputs": [
        {
          "output_type": "stream",
          "name": "stdout",
          "text": [
            "Intelligence: 12\n"
          ]
        }
      ]
    },
    {
      "cell_type": "markdown",
      "source": [
        "Challenge: Try to change one of the values in the tuple. Observe and explain the error you receive."
      ],
      "metadata": {
        "id": "B2fs7w3Ph1zY"
      }
    },
    {
      "cell_type": "code",
      "metadata": {
        "colab": {
          "base_uri": "https://localhost:8080/",
          "height": 193
        },
        "id": "78ef2e61",
        "outputId": "39436900-7ef1-48e8-c5f8-21557e82e855"
      },
      "source": [
        "# Try to change three attribute\n",
        "base_stats[0] = 8\n",
        "base_stats[1] = 7\n",
        "base_stats[2] = 10"
      ],
      "execution_count": null,
      "outputs": [
        {
          "output_type": "error",
          "ename": "TypeError",
          "evalue": "'tuple' object does not support item assignment",
          "traceback": [
            "\u001b[0;31m---------------------------------------------------------------------------\u001b[0m",
            "\u001b[0;31mTypeError\u001b[0m                                 Traceback (most recent call last)",
            "\u001b[0;32m/tmp/ipython-input-3435490426.py\u001b[0m in \u001b[0;36m<cell line: 0>\u001b[0;34m()\u001b[0m\n\u001b[1;32m      1\u001b[0m \u001b[0;31m# Try to change three attribute\u001b[0m\u001b[0;34m\u001b[0m\u001b[0;34m\u001b[0m\u001b[0m\n\u001b[0;32m----> 2\u001b[0;31m \u001b[0mbase_stats\u001b[0m\u001b[0;34m[\u001b[0m\u001b[0;36m0\u001b[0m\u001b[0;34m]\u001b[0m \u001b[0;34m=\u001b[0m \u001b[0;36m8\u001b[0m\u001b[0;34m\u001b[0m\u001b[0;34m\u001b[0m\u001b[0m\n\u001b[0m\u001b[1;32m      3\u001b[0m \u001b[0mbase_stats\u001b[0m\u001b[0;34m[\u001b[0m\u001b[0;36m1\u001b[0m\u001b[0;34m]\u001b[0m \u001b[0;34m=\u001b[0m \u001b[0;36m7\u001b[0m\u001b[0;34m\u001b[0m\u001b[0;34m\u001b[0m\u001b[0m\n\u001b[1;32m      4\u001b[0m \u001b[0mbase_stats\u001b[0m\u001b[0;34m[\u001b[0m\u001b[0;36m2\u001b[0m\u001b[0;34m]\u001b[0m \u001b[0;34m=\u001b[0m \u001b[0;36m10\u001b[0m\u001b[0;34m\u001b[0m\u001b[0;34m\u001b[0m\u001b[0m\n",
            "\u001b[0;31mTypeError\u001b[0m: 'tuple' object does not support item assignment"
          ]
        }
      ]
    },
    {
      "cell_type": "markdown",
      "source": [
        "Once the tuplet is created then it cannot be change, add remove its element and also cannot assign a new value to an existing index within tuplet"
      ],
      "metadata": {
        "id": "4lA_4ihwjCj3"
      }
    },
    {
      "cell_type": "markdown",
      "source": [
        "Part 4: Quest Log (Using Sets)\n",
        "A set is ideal for tracking unique items. Create a set named quest_log to store the titles of Alistair's active quests.\n",
        "\n",
        "Tasks:\n",
        "1. Initialize the set with a few quests, for example: {'Defeat the Goblin King', 'Find the Lost Amulet'}."
      ],
      "metadata": {
        "id": "sRHWBk5tj7Sx"
      }
    },
    {
      "cell_type": "code",
      "metadata": {
        "colab": {
          "base_uri": "https://localhost:8080/"
        },
        "id": "68f26e73",
        "outputId": "582dd5fa-ffca-481a-eb51-ea8ce32bc5e5"
      },
      "source": [
        "quest_log = {'Defeat the Goblin King', 'Find the Lost Amulet'}\n",
        "\n",
        "print(\"Initial Quest Log:\")\n",
        "print(quest_log)"
      ],
      "execution_count": null,
      "outputs": [
        {
          "output_type": "stream",
          "name": "stdout",
          "text": [
            "Initial Quest Log:\n",
            "{'Defeat the Goblin King', 'Find the Lost Amulet'}\n"
          ]
        }
      ]
    },
    {
      "cell_type": "markdown",
      "source": [
        "2. Add a new quest to the log (e.g., 'Deliver the Old Scroll')."
      ],
      "metadata": {
        "id": "nzKleLHTl1cb"
      }
    },
    {
      "cell_type": "code",
      "metadata": {
        "colab": {
          "base_uri": "https://localhost:8080/"
        },
        "id": "2393e2d7",
        "outputId": "c88f2eb2-6c75-4df4-dd80-e0ed562d09f1"
      },
      "source": [
        "quest_log.add('Deliver the Old Scroll')\n",
        "\n",
        "print(\"Updated Quest Log:\")\n",
        "print(quest_log)"
      ],
      "execution_count": null,
      "outputs": [
        {
          "output_type": "stream",
          "name": "stdout",
          "text": [
            "Updated Quest Log:\n",
            "{'Defeat the Goblin King', 'Find the Lost Amulet', 'Deliver the Old Scroll'}\n"
          ]
        }
      ]
    },
    {
      "cell_type": "markdown",
      "source": [
        "3. Add a quest that is already in the set. Notice how the set handles duplicates."
      ],
      "metadata": {
        "id": "qzCKqPgPmRAS"
      }
    },
    {
      "cell_type": "code",
      "metadata": {
        "colab": {
          "base_uri": "https://localhost:8080/"
        },
        "id": "85a92e4d",
        "outputId": "0c032c38-49b1-4163-bc51-74d16f692a5c"
      },
      "source": [
        "# Attempt to add a quest that is already in the set\n",
        "print(\"Attempting to add 'Defeat the Goblin King' again...\")\n",
        "quest_log.add('Defeat the Goblin King')\n",
        "\n",
        "# Print the quest log again to see if anything changed\n",
        "print(\"Quest Log after attempting to add a duplicate:\")\n",
        "print(quest_log)"
      ],
      "execution_count": null,
      "outputs": [
        {
          "output_type": "stream",
          "name": "stdout",
          "text": [
            "Attempting to add 'Defeat the Goblin King' again...\n",
            "Quest Log after attempting to add a duplicate:\n",
            "{'Defeat the Goblin King', 'Find the Lost Amulet', 'Deliver the Old Scroll'}\n"
          ]
        }
      ]
    },
    {
      "cell_type": "markdown",
      "source": [
        "4. Remove a completed quest from the log (e.g., 'Find the Lost Amulet')."
      ],
      "metadata": {
        "id": "4SQP6zsLmimR"
      }
    },
    {
      "cell_type": "code",
      "metadata": {
        "colab": {
          "base_uri": "https://localhost:8080/"
        },
        "id": "8259307a",
        "outputId": "97f639b0-dda3-4785-e346-fb2effb106cb"
      },
      "source": [
        "# Remove a completed quest from the set\n",
        "print(\"Removing 'Find the Lost Amulet'...\")\n",
        "quest_log.remove('Find the Lost Amulet')\n",
        "\n",
        "# Print the quest log to see the change\n",
        "print(\"Quest Log after removing 'Find the Lost Amulet':\")\n",
        "print(quest_log)"
      ],
      "execution_count": null,
      "outputs": [
        {
          "output_type": "stream",
          "name": "stdout",
          "text": [
            "Removing 'Find the Lost Amulet'...\n",
            "Quest Log after removing 'Find the Lost Amulet':\n",
            "{'Defeat the Goblin King', 'Deliver the Old Scroll'}\n"
          ]
        }
      ]
    },
    {
      "cell_type": "markdown",
      "source": [
        "5. Print the final quest_log set."
      ],
      "metadata": {
        "id": "EaeeM2LPnGeI"
      }
    },
    {
      "cell_type": "code",
      "metadata": {
        "colab": {
          "base_uri": "https://localhost:8080/"
        },
        "id": "91db0e1b",
        "outputId": "1608046b-f6c0-4400-cf6f-7de1b8e04daa"
      },
      "source": [
        "print(\"Final Quest Log:\")\n",
        "print(quest_log)"
      ],
      "execution_count": null,
      "outputs": [
        {
          "output_type": "stream",
          "name": "stdout",
          "text": [
            "Final Quest Log:\n",
            "{'Defeat the Goblin King', 'Deliver the Old Scroll'}\n"
          ]
        }
      ]
    },
    {
      "cell_type": "markdown",
      "source": [],
      "metadata": {
        "id": "qDSHfMShnKJ4"
      }
    },
    {
      "cell_type": "code",
      "metadata": {
        "colab": {
          "base_uri": "https://localhost:8080/"
        },
        "id": "7981bd23",
        "outputId": "eda40ffe-52b5-4db8-d64e-7c8b4d9a58f0"
      },
      "source": [
        "# Create the character_sheet dictionary\n",
        "character_sheet = {\n",
        "    'profile': character_profile,\n",
        "    'inventory': inventory,\n",
        "    'stats': base_stats,\n",
        "    'quests': quest_log\n",
        "}\n",
        "\n",
        "# Print the entire character_sheet\n",
        "print(\"--- Alistair's Character Sheet ---\")\n",
        "print(character_sheet)"
      ],
      "execution_count": null,
      "outputs": [
        {
          "output_type": "stream",
          "name": "stdout",
          "text": [
            "--- Alistair's Character Sheet ---\n",
            "{'profile': {'name': 'Alistair the Brave', 'level': 1, 'health': 85, 'mana': 50, 'gold': 50.75, 'is_alive': True, 'experience': 0}, 'inventory': ['sword', 'health portion', 'mana potion'], 'stats': (15, 9, 20), 'quests': {'Defeat the Goblin King', 'Deliver the Old Scroll'}}\n"
          ]
        }
      ]
    }
  ]
}