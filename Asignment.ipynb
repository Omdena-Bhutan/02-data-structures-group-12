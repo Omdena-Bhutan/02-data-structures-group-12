{
  "nbformat": 4,
  "nbformat_minor": 0,
  "metadata": {
    "colab": {
      "provenance": []
    },
    "kernelspec": {
      "name": "python3",
      "display_name": "Python 3"
    },
    "language_info": {
      "name": "python"
    }
  },
  "cells": [
    {
      "cell_type": "code",
      "execution_count": null,
      "metadata": {
        "colab": {
          "base_uri": "https://localhost:8080/"
        },
        "id": "gTVU4AVI-_C0",
        "outputId": "07cee13c-c55c-4944-e6c5-8f4a24672fd3"
      },
      "outputs": [
        {
          "output_type": "stream",
          "name": "stdout",
          "text": [
            "Character: Alistair the Brave, Level: 1\n",
            "Final Character Profile: {'name': 'Alistair the Brave', 'level': 1, 'health': 85, 'mana': 50, 'gold': 50.75, 'is_alive': True, 'experience': 0}\n"
          ]
        }
      ],
      "source": [
        "# Part 1: Character Profile\n",
        "character_profile = {\n",
        "    'name': \"Alistair the Brave\",   # String\n",
        "    'level': 1,                     # Integer\n",
        "    'health': 100,                  # Integer\n",
        "    'mana': 50,                     # Integer\n",
        "    'gold': 50.75,                  # Float\n",
        "    'is_alive': True                # Boolean\n",
        "}\n",
        "\n",
        "# Print name and level\n",
        "print(f\"Character: {character_profile['name']}, Level: {character_profile['level']}\")\n",
        "\n",
        "# Update health to 85\n",
        "character_profile['health'] = 85\n",
        "\n",
        "# Add experience\n",
        "character_profile['experience'] = 0\n",
        "\n",
        "# Print final dictionary\n",
        "print(\"Final Character Profile:\", character_profile)\n"
      ]
    },
    {
      "cell_type": "code",
      "source": [
        "# Part 2: Inventory System\n",
        "inventory = ['sword', 'shield', 'health potion']  # Initial items\n",
        "\n",
        "# Add a new item\n",
        "inventory.append('mana potion')\n",
        "\n",
        "# Remove an existing item\n",
        "inventory.remove('shield')\n",
        "\n",
        "# Print all items using a loop\n",
        "print(\"Current Inventory:\")\n",
        "for item in inventory:\n",
        "    print(\"-\", item)\n"
      ],
      "metadata": {
        "colab": {
          "base_uri": "https://localhost:8080/"
        },
        "id": "RgN3bVEiD57G",
        "outputId": "00016db1-8c8a-4b2b-d750-2a530803d033"
      },
      "execution_count": null,
      "outputs": [
        {
          "output_type": "stream",
          "name": "stdout",
          "text": [
            "Current Inventory:\n",
            "- sword\n",
            "- health potion\n",
            "- mana potion\n"
          ]
        }
      ]
    },
    {
      "cell_type": "code",
      "source": [
        "# Part 3: Character Stats\n",
        "base_stats = (10, 8, 12)  # (strength, dexterity, intelligence)\n",
        "\n",
        "# Why tuple is good\n",
        "print(\"Tuples are a good choice for base stats because they are immutable and cannot be accidentally changed.\")\n",
        "\n",
        "# Access intelligence (3rd value, index = 2)\n",
        "print(\"Alistair's Intelligence:\", base_stats[2])\n",
        "\n",
        "# Challenge: Try to change a tuple value (this will cause an error)\n",
        "try:\n",
        "    base_stats[0] = 15\n",
        "except TypeError as e:\n",
        "    print(\"Error when trying to modify tuple:\", e)\n"
      ],
      "metadata": {
        "colab": {
          "base_uri": "https://localhost:8080/"
        },
        "id": "M_tsgzaCED9s",
        "outputId": "e97ca097-8e0b-41e0-d548-bb44a12de04e"
      },
      "execution_count": null,
      "outputs": [
        {
          "output_type": "stream",
          "name": "stdout",
          "text": [
            "Tuples are a good choice for base stats because they are immutable and cannot be accidentally changed.\n",
            "Alistair's Intelligence: 12\n",
            "Error when trying to modify tuple: 'tuple' object does not support item assignment\n"
          ]
        }
      ]
    },
    {
      "cell_type": "code",
      "source": [
        "# Part 4: Quest Log\n",
        "quest_log = {'Defeat the Goblin King', 'Find the Lost Amulet'}  # Initial quests\n",
        "\n",
        "# Add a new quest\n",
        "quest_log.add('Deliver the Old Scroll')\n",
        "\n",
        "# Add a duplicate quest (ignored by set automatically)\n",
        "quest_log.add('Defeat the Goblin King')\n",
        "\n",
        "# Remove a completed quest\n",
        "quest_log.remove('Find the Lost Amulet')\n",
        "\n",
        "# Print final quest log\n",
        "print(\"Current Quest Log:\", quest_log)\n"
      ],
      "metadata": {
        "colab": {
          "base_uri": "https://localhost:8080/"
        },
        "id": "1JLse_i8ELXz",
        "outputId": "2b7f2248-7323-4577-c0b9-5b781dcce099"
      },
      "execution_count": null,
      "outputs": [
        {
          "output_type": "stream",
          "name": "stdout",
          "text": [
            "Current Quest Log: {'Deliver the Old Scroll', 'Defeat the Goblin King'}\n"
          ]
        }
      ]
    },
    {
      "cell_type": "code",
      "source": [
        "# Part 5: Putting it all together\n",
        "character_sheet = {\n",
        "    'profile': character_profile,   # From Part 1\n",
        "    'inventory': inventory,         # From Part 2\n",
        "    'stats': base_stats,            # From Part 3\n",
        "    'quests': quest_log             # From Part 4\n",
        "}\n",
        "\n",
        "# Print the full character sheet\n",
        "print(\"\\n=== Full Character Sheet ===\")\n",
        "print(character_sheet)\n"
      ],
      "metadata": {
        "id": "1mfYttWREUFr",
        "outputId": "b9d6ae31-2a0e-46b4-8d8c-c00fbf1b90f4",
        "colab": {
          "base_uri": "https://localhost:8080/"
        }
      },
      "execution_count": null,
      "outputs": [
        {
          "output_type": "stream",
          "name": "stdout",
          "text": [
            "\n",
            "=== Full Character Sheet ===\n",
            "{'profile': {'name': 'Alistair the Brave', 'level': 1, 'health': 85, 'mana': 50, 'gold': 50.75, 'is_alive': True, 'experience': 0}, 'inventory': ['sword', 'health potion', 'mana potion'], 'stats': (10, 8, 12), 'quests': {'Deliver the Old Scroll', 'Defeat the Goblin King'}}\n"
          ]
        }
      ]
    }
  ]
}